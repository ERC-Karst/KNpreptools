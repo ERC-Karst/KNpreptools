{
 "cells": [
  {
   "cell_type": "code",
   "execution_count": null,
   "metadata": {},
   "outputs": [],
   "source": [
    "#import G here"
   ]
  },
  {
   "cell_type": "code",
   "execution_count": null,
   "metadata": {},
   "outputs": [],
   "source": [
    "#EXTRACT GEOMETRY INFO - this could be optional\n",
    "\n",
    "geommean_radius, width, height, projected_splays_u, projected_splays_v = ux.calc_conduit_dimensions(G, output = 'all')\n",
    "\n",
    "#ADD GEOMETRY INFO ON THE NODES\n",
    "nx.set_node_attributes(G, geommean_radius, 'geommean_radius') \n",
    "nx.set_node_attributes(G, width, 'width') \n",
    "nx.set_node_attributes(G, height, 'height') \n",
    "nx.set_node_attributes(G, projected_splays_u, 'projected_splays_u') \n",
    "nx.set_node_attributes(G, projected_splays_v, 'projected_splays_v') "
   ]
  }
 ],
 "metadata": {
  "language_info": {
   "name": "python"
  }
 },
 "nbformat": 4,
 "nbformat_minor": 2
}
